{
 "cells": [
  {
   "cell_type": "code",
   "execution_count": 16,
   "id": "f02c0c71",
   "metadata": {},
   "outputs": [],
   "source": [
    "import numpy as np\n",
    "data_array1 = np.load(\"X_train.npy\")\n",
    "data_array2 = np.load(\"X_test.npy\")\n",
    "data_array3 = np.load(\"y_train.npy\")\n",
    "data_array4 = np.load(\"y_test.npy\")\n",
    "data_array5 = np.load(\"z1_train.npy\")\n",
    "data_array6 = np.load(\"z2_train.npy\")\n",
    "data_array7 = np.load(\"z3_train.npy\")\n",
    "data_array8 = np.load(\"z1_test.npy\")\n",
    "data_array9 = np.load(\"z2_test.npy\")\n",
    "data_array10 = np.load(\"z3_test.npy\")\n",
    "data_array11 = np.load(\"y_noisy_z1.npy\")\n",
    "data_array12 = np.load(\"y_noisy_z2.npy\")\n",
    "data_array13 = np.load(\"y_noisy_z3.npy\")\n",
    "data_array14 = np.load(\"y_noisy_z12.npy\")\n",
    "data_array15 = np.load(\"y_noisy_z123.npy\")"
   ]
  },
  {
   "cell_type": "code",
   "execution_count": 21,
   "id": "a555b4a5",
   "metadata": {},
   "outputs": [
    {
     "data": {
      "text/plain": [
       "array([0, 1, 0, ..., 1, 1, 1], dtype=int64)"
      ]
     },
     "execution_count": 21,
     "metadata": {},
     "output_type": "execute_result"
    }
   ],
   "source": [
    "data_array13"
   ]
  },
  {
   "cell_type": "code",
   "execution_count": null,
   "id": "66d3cb92",
   "metadata": {},
   "outputs": [],
   "source": []
  }
 ],
 "metadata": {
  "kernelspec": {
   "display_name": "Python 3 (ipykernel)",
   "language": "python",
   "name": "python3"
  },
  "language_info": {
   "codemirror_mode": {
    "name": "ipython",
    "version": 3
   },
   "file_extension": ".py",
   "mimetype": "text/x-python",
   "name": "python",
   "nbconvert_exporter": "python",
   "pygments_lexer": "ipython3",
   "version": "3.9.7"
  }
 },
 "nbformat": 4,
 "nbformat_minor": 5
}
